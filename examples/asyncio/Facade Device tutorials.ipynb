{
 "cells": [
  {
   "cell_type": "code",
   "execution_count": 9,
   "metadata": {},
   "outputs": [
    {
     "data": {
      "text/html": [
       "<table border=\"0\" cellpadding=\"2\" width=\"100%\">\n",
       "<tr><td colspan=\"2\" bgcolor=\"#00FF00\">double_image (DevDouble, IMAGE, ATTR_VALID) at 2017-05-11 16:01:43.603464</td></tr>\n",
       "<tr><td bgcolor=\"#EEEEEE\" width=\"140\">value<br/>(251, 251):</td>\n",
       "    <td bgcolor=\"#EEEEEE\">[[ 0.  0.  0. ...,  0.  0.  0.]\n",
       " [ 0.  0.  0. ...,  0.  0.  0.]\n",
       " [ 0.  0.  0. ...,  0.  0.  0.]\n",
       " ..., \n",
       " [ 0.  0.  0. ...,  0.  0.  0.]\n",
       " [ 0.  0.  0. ...,  0.  0.  0.]\n",
       " [ 0.  0.  0. ...,  0.  0.  0.]]</td></tr>\n",
       "<tr><td bgcolor=\"#EEEEEE\" width=\"140\">w_value<br/>(1, 0):</td>\n",
       "    <td bgcolor=\"#EEEEEE\">[]</td></tr>\n",
       "</table>"
      ],
      "text/plain": [
       "DeviceAttribute(data_format = tango._tango.AttrDataFormat.IMAGE, dim_x = 251, dim_y = 251, has_failed = False, is_empty = False, name = 'double_image', nb_read = 63001, nb_written = 1, quality = tango._tango.AttrQuality.ATTR_VALID, r_dimension = AttributeDimension(dim_x = 251, dim_y = 251), time = TimeVal(tv_nsec = 0, tv_sec = 1494511303, tv_usec = 603464), type = tango._tango.CmdArgType.DevDouble, value = array([[ 0.,  0.,  0., ...,  0.,  0.,  0.],\n",
       "       [ 0.,  0.,  0., ...,  0.,  0.,  0.],\n",
       "       [ 0.,  0.,  0., ...,  0.,  0.,  0.],\n",
       "       ..., \n",
       "       [ 0.,  0.,  0., ...,  0.,  0.,  0.],\n",
       "       [ 0.,  0.,  0., ...,  0.,  0.,  0.],\n",
       "       [ 0.,  0.,  0., ...,  0.,  0.,  0.]]), w_dim_x = 1, w_dim_y = 0, w_dimension = AttributeDimension(dim_x = 1, dim_y = 0), w_value = array([], shape=(0, 1), dtype=float64))"
      ]
     },
     "execution_count": 9,
     "metadata": {},
     "output_type": "execute_result"
    }
   ],
   "source": [
    "dev = TangoTest(\"sys/tg_test/1\")\n",
    "dev.read_attribute('double_image')"
   ]
  },
  {
   "cell_type": "code",
   "execution_count": 10,
   "metadata": {},
   "outputs": [
    {
     "data": {
      "text/html": [
       "<table border=\"0\" cellpadding=\"2\" width=\"100%\">\n",
       "<tr><td width=\"140\" rowspan=\"2\" valign=\"middle\" align=\"center\"><img src=\"/home/stageeyesrv/miniconda3/envs/tango35/lib/python3.5/site-packages/itango/resource/database.png\" height=\"128\"/></td>\n",
       "    <td><b>stageeye-server.something:10000</b></td></tr>\n",
       "<tr><td>TANGO Database sys/database/2<BR/> <BR/>Running since 2017-05-11 14:49:02<BR/> <BR/>Devices defined  = 16<BR/>Devices exported  = 10<BR/>Device servers defined  = 9<BR/>Device servers exported  = 5<BR/> <BR/>Device properties defined  = 26 [History lgth = 103]<BR/>Class properties defined  = 78 [History lgth = 120]<BR/>Device attribute properties defined  = 0 [History lgth = 0]<BR/>Class attribute properties defined  = 0 [History lgth = 0]<BR/>Object properties defined  = 0 [History lgth = 0]<BR/></td></tr>\n",
       "</table>"
      ],
      "text/plain": [
       "Database(stageeye-server.something, 10000)"
      ]
     },
     "execution_count": 10,
     "metadata": {},
     "output_type": "execute_result"
    }
   ],
   "source": [
    "db\n"
   ]
  },
  {
   "cell_type": "code",
   "execution_count": 19,
   "metadata": {},
   "outputs": [
    {
     "name": "stdout",
     "output_type": "stream",
     "text": [
      "'sys/tg_test/1/State' is now being monitored. Type 'mon' to see all events\n"
     ]
    }
   ],
   "source": [
    "mon -a \"sys/tg_test/1/State\""
   ]
  },
  {
   "cell_type": "code",
   "execution_count": 21,
   "metadata": {},
   "outputs": [],
   "source": [
    "dev.poll_attribute('State', 1000)"
   ]
  },
  {
   "cell_type": "markdown",
   "metadata": {},
   "source": [
    "mon\n"
   ]
  },
  {
   "cell_type": "code",
   "execution_count": 23,
   "metadata": {},
   "outputs": [
    {
     "data": {
      "text/plain": [
       "1"
      ]
     },
     "execution_count": 23,
     "metadata": {},
     "output_type": "execute_result"
    }
   ],
   "source": [
    "1\n"
   ]
  },
  {
   "cell_type": "code",
   "execution_count": 43,
   "metadata": {},
   "outputs": [
    {
     "name": "stdout",
     "output_type": "stream",
     "text": [
      "NameError: name 'mon' is not defined\n",
      "(For more detailed information type: python_error)\n"
     ]
    }
   ],
   "source": [
    "\n",
    "mon\n"
   ]
  },
  {
   "cell_type": "code",
   "execution_count": 44,
   "metadata": {},
   "outputs": [],
   "source": [
    "\n",
    "\n",
    "dev.switchstates()\n"
   ]
  },
  {
   "cell_type": "code",
   "execution_count": 2,
   "metadata": {},
   "outputs": [],
   "source": [
    "from facadedevice import Facade\n",
    "from tango import DevState\n",
    "from tango.test_context import DeviceTestContext\n",
    "\n",
    "DeviceTestContext.connect_timeout = 10\n",
    "\n",
    "class On(Facade):\n",
    "\n",
    "    def safe_init_device(self):\n",
    "        super(On, self).safe_init_device()\n",
    "\n",
    "        self.set_state(DevState.ON)"
   ]
  },
  {
   "cell_type": "code",
   "execution_count": 3,
   "metadata": {},
   "outputs": [
    {
     "name": "stdout",
     "output_type": "stream",
     "text": [
      "Ready to accept request\n",
      "ON\n"
     ]
    }
   ],
   "source": [
    "with DeviceTestContext(On, host=\"localhost\", process=True) as proxy:\n",
    "    print(proxy.State())"
   ]
  },
  {
   "cell_type": "code",
   "execution_count": 6,
   "metadata": {},
   "outputs": [],
   "source": [
    "from facadedevice import local_attribute\n",
    "from tango import AttrWriteType\n",
    "\n",
    "class Counter1(Facade):\n",
    "\n",
    "    @local_attribute(\n",
    "        dtype=int,\n",
    "        access=AttrWriteType.READ_WRITE,)\n",
    "    def count(self):\n",
    "        return 0"
   ]
  },
  {
   "cell_type": "code",
   "execution_count": 9,
   "metadata": {},
   "outputs": [
    {
     "name": "stdout",
     "output_type": "stream",
     "text": [
      "Ready to accept request\n",
      "0\n",
      "1\n"
     ]
    }
   ],
   "source": [
    "with DeviceTestContext(Counter1, host=\"localhost\", process=True) as proxy:\n",
    "    print(proxy.count)\n",
    "    proxy.count += 1\n",
    "    print(proxy.count)"
   ]
  },
  {
   "cell_type": "code",
   "execution_count": 6,
   "metadata": {
    "collapsed": true
   },
   "outputs": [],
   "source": [
    "from facadedevice import combined_attribute, Facade\n",
    "\n",
    "class Average(Facade):\n",
    "\n",
    "    @combined_attribute(\n",
    "        dtype=float,\n",
    "        property_name='AttributesToAverage')\n",
    "    def average(self, *args):\n",
    "        return sum(args) / len(args)"
   ]
  },
  {
   "cell_type": "code",
   "execution_count": 22,
   "metadata": {},
   "outputs": [
    {
     "name": "stdout",
     "output_type": "stream",
     "text": [
      "'sys/tg_test/1/ampli' is now being monitored. Type 'mon' to see all events\n"
     ]
    }
   ],
   "source": [
    "mon -a \"sys/tg_test/1/ampli\""
   ]
  },
  {
   "cell_type": "code",
   "execution_count": null,
   "metadata": {},
   "outputs": [],
   "source": [
    "from tango.test_context import DeviceTestContext\n",
    "\n",
    "DeviceTestContext.connect_timeout=10\n",
    "with DeviceTestContext(Average, host=\"localhost\",\n",
    "                       properties={\"AttributesToAverage\": \"sys/tg_test/1/ampli\"}) as proxy:\n",
    "    print(proxy.State())\n",
    "    print(proxy.Status())\n",
    "    print(proxy.average)\n"
   ]
  },
  {
   "cell_type": "code",
   "execution_count": null,
   "metadata": {},
   "outputs": [],
   "source": [
    "dev = TangoTest(\"sys/tg_test/1\")\n",
    "for attr in dev.get_attribute_list():\n",
    "    if \"scalar\" in attr:\n",
    "        dev.poll_attribute(attr, 200)\n"
   ]
  },
  {
   "cell_type": "code",
   "execution_count": 10,
   "metadata": {},
   "outputs": [
    {
     "name": "stdout",
     "output_type": "stream",
     "text": [
      "Can't create notifd event supplier. Notifd event not available\n",
      "PyDS: Average: An error occured in the constructor:\n",
      "'NoneType' object is not iterable\n",
      "1494514866 [140509149607680] INFO test/nodb/average Received a valid event from sys/tg_test/1/boolean_scalar for node <average[0]>.\n",
      "1494514866 [140509149607680] INFO test/nodb/average Subscribed to change event for attribute sys/tg_test/1/boolean_scalar\n",
      "1494514866 [140509149607680] INFO test/nodb/average Received a valid event from sys/tg_test/1/double_scalar for node <average[1]>.\n",
      "1494514866 [140509149607680] INFO test/nodb/average Subscribed to periodic event for attribute sys/tg_test/1/double_scalar\n",
      "1494514866 [140509149607680] INFO test/nodb/average Received a valid event from sys/tg_test/1/float_scalar for node <average[2]>.\n",
      "1494514866 [140509149607680] INFO test/nodb/average Subscribed to periodic event for attribute sys/tg_test/1/float_scalar\n",
      "1494514866 [140509149607680] INFO test/nodb/average Received a valid event from sys/tg_test/1/long64_scalar for node <average[3]>.\n",
      "1494514866 [140509149607680] INFO test/nodb/average Subscribed to periodic event for attribute sys/tg_test/1/long64_scalar\n",
      "1494514866 [140509149607680] INFO test/nodb/average Received a valid event from sys/tg_test/1/long_scalar for node <average[4]>.\n",
      "1494514866 [140509149607680] INFO test/nodb/average Subscribed to periodic event for attribute sys/tg_test/1/long_scalar\n",
      "1494514866 [140509149607680] INFO test/nodb/average Received a valid event from sys/tg_test/1/uchar_scalar for node <average[5]>.\n",
      "1494514866 [140509149607680] INFO test/nodb/average Subscribed to periodic event for attribute sys/tg_test/1/uchar_scalar\n",
      "1494514866 [140509149607680] INFO test/nodb/average Received a valid event from sys/tg_test/1/ulong64_scalar for node <average[6]>.\n",
      "1494514866 [140509149607680] INFO test/nodb/average Subscribed to periodic event for attribute sys/tg_test/1/ulong64_scalar\n",
      "1494514867 [140509149607680] INFO test/nodb/average Received a valid event from sys/tg_test/1/ulong_scalar for node <average[7]>.\n",
      "1494514867 [140509149607680] INFO test/nodb/average Subscribed to periodic event for attribute sys/tg_test/1/ulong_scalar\n",
      "1494514867 [140509149607680] INFO test/nodb/average Received a valid event from sys/tg_test/1/ushort_scalar for node <average[8]>.\n",
      "1494514867 [140509149607680] INFO test/nodb/average Subscribed to periodic event for attribute sys/tg_test/1/ushort_scalar\n",
      "Ready to accept request\n",
      "Average started on port 3457 with properties {'AttributesToAverage': 'sys/tg_test/1/[!string]*scalar'}\n",
      "Device access: tango://localhost:3457/test/nodb/average#dbase=no\n",
      "Server access: tango://localhost:3457/dserver/Average/average#dbase=no\n",
      "1494514867 [140508647126784] INFO test/nodb/average Received a valid event from sys/tg_test/1/ushort_scalar for node <average[8]>.\n",
      "1494514867 [140508647126784] INFO test/nodb/average Received a valid event from sys/tg_test/1/double_scalar for node <average[1]>.\n",
      "1494514867 [140508647126784] INFO test/nodb/average Received a valid event from sys/tg_test/1/float_scalar for node <average[2]>.\n",
      "1494514867 [140508647126784] INFO test/nodb/average Received a valid event from sys/tg_test/1/long64_scalar for node <average[3]>.\n",
      "1494514867 [140508647126784] INFO test/nodb/average Received a valid event from sys/tg_test/1/long_scalar for node <average[4]>.\n",
      "1494514867 [140508647126784] INFO test/nodb/average Received a valid event from sys/tg_test/1/uchar_scalar for node <average[5]>.\n",
      "1494514867 [140508647126784] INFO test/nodb/average Received a valid event from sys/tg_test/1/ulong64_scalar for node <average[6]>.\n",
      "1494514867 [140508647126784] INFO test/nodb/average Received a valid event from sys/tg_test/1/ulong_scalar for node <average[7]>.\n",
      "1494514868 [140508647126784] INFO test/nodb/average Received a valid event from sys/tg_test/1/ushort_scalar for node <average[8]>.\n",
      "1494514868 [140508647126784] INFO test/nodb/average Received a valid event from sys/tg_test/1/double_scalar for node <average[1]>.\n",
      "1494514868 [140508647126784] INFO test/nodb/average Received a valid event from sys/tg_test/1/float_scalar for node <average[2]>.\n",
      "1494514868 [140508647126784] INFO test/nodb/average Received a valid event from sys/tg_test/1/long64_scalar for node <average[3]>.\n",
      "1494514868 [140508647126784] INFO test/nodb/average Received a valid event from sys/tg_test/1/long_scalar for node <average[4]>.\n",
      "1494514868 [140508647126784] INFO test/nodb/average Received a valid event from sys/tg_test/1/uchar_scalar for node <average[5]>.\n",
      "1494514868 [140508647126784] INFO test/nodb/average Received a valid event from sys/tg_test/1/ulong64_scalar for node <average[6]>.\n",
      "1494514868 [140508647126784] INFO test/nodb/average Received a valid event from sys/tg_test/1/ulong_scalar for node <average[7]>.\n",
      "1494514869 [140508647126784] INFO test/nodb/average Received a valid event from sys/tg_test/1/ushort_scalar for node <average[8]>.\n",
      "1494514869 [140508647126784] INFO test/nodb/average Received a valid event from sys/tg_test/1/double_scalar for node <average[1]>.\n",
      "1494514869 [140508647126784] INFO test/nodb/average Received a valid event from sys/tg_test/1/float_scalar for node <average[2]>.\n",
      "1494514869 [140508647126784] INFO test/nodb/average Received a valid event from sys/tg_test/1/long64_scalar for node <average[3]>.\n",
      "1494514869 [140508647126784] INFO test/nodb/average Received a valid event from sys/tg_test/1/long_scalar for node <average[4]>.\n",
      "1494514869 [140508647126784] INFO test/nodb/average Received a valid event from sys/tg_test/1/uchar_scalar for node <average[5]>.\n",
      "1494514869 [140508647126784] INFO test/nodb/average Received a valid event from sys/tg_test/1/ulong64_scalar for node <average[6]>.\n",
      "1494514869 [140508647126784] INFO test/nodb/average Received a valid event from sys/tg_test/1/ulong_scalar for node <average[7]>.\n",
      "1494514870 [140508647126784] INFO test/nodb/average Received a valid event from sys/tg_test/1/ushort_scalar for node <average[8]>.\n",
      "1494514870 [140508647126784] INFO test/nodb/average Received a valid event from sys/tg_test/1/double_scalar for node <average[1]>.\n",
      "1494514870 [140508647126784] INFO test/nodb/average Received a valid event from sys/tg_test/1/float_scalar for node <average[2]>.\n",
      "1494514870 [140508647126784] INFO test/nodb/average Received a valid event from sys/tg_test/1/long64_scalar for node <average[3]>.\n",
      "1494514870 [140508647126784] INFO test/nodb/average Received a valid event from sys/tg_test/1/long_scalar for node <average[4]>.\n",
      "1494514870 [140508647126784] INFO test/nodb/average Received a valid event from sys/tg_test/1/uchar_scalar for node <average[5]>.\n",
      "1494514870 [140508647126784] INFO test/nodb/average Received a valid event from sys/tg_test/1/ulong64_scalar for node <average[6]>.\n",
      "1494514870 [140508647126784] INFO test/nodb/average Received a valid event from sys/tg_test/1/ulong_scalar for node <average[7]>.\n",
      "1494514871 [140508647126784] INFO test/nodb/average Received a valid event from sys/tg_test/1/ushort_scalar for node <average[8]>.\n",
      "1494514871 [140508647126784] INFO test/nodb/average Received a valid event from sys/tg_test/1/double_scalar for node <average[1]>.\n",
      "1494514871 [140508647126784] INFO test/nodb/average Received a valid event from sys/tg_test/1/float_scalar for node <average[2]>.\n",
      "1494514871 [140508647126784] INFO test/nodb/average Received a valid event from sys/tg_test/1/long64_scalar for node <average[3]>.\n",
      "1494514871 [140508647126784] INFO test/nodb/average Received a valid event from sys/tg_test/1/long_scalar for node <average[4]>.\n",
      "1494514871 [140508647126784] INFO test/nodb/average Received a valid event from sys/tg_test/1/uchar_scalar for node <average[5]>.\n",
      "1494514871 [140508647126784] INFO test/nodb/average Received a valid event from sys/tg_test/1/ulong64_scalar for node <average[6]>.\n",
      "1494514871 [140508647126784] INFO test/nodb/average Received a valid event from sys/tg_test/1/ulong_scalar for node <average[7]>.\n",
      "1494514872 [140508647126784] INFO test/nodb/average Received a valid event from sys/tg_test/1/ushort_scalar for node <average[8]>.\n",
      "1494514872 [140508647126784] INFO test/nodb/average Received a valid event from sys/tg_test/1/double_scalar for node <average[1]>.\n",
      "1494514872 [140508647126784] INFO test/nodb/average Received a valid event from sys/tg_test/1/float_scalar for node <average[2]>.\n",
      "1494514872 [140508647126784] INFO test/nodb/average Received a valid event from sys/tg_test/1/long64_scalar for node <average[3]>.\n"
     ]
    },
    {
     "name": "stdout",
     "output_type": "stream",
     "text": [
      "1494514872 [140508647126784] INFO test/nodb/average Received a valid event from sys/tg_test/1/long_scalar for node <average[4]>.\n",
      "1494514872 [140508647126784] INFO test/nodb/average Received a valid event from sys/tg_test/1/uchar_scalar for node <average[5]>.\n",
      "1494514872 [140508647126784] INFO test/nodb/average Received a valid event from sys/tg_test/1/ulong64_scalar for node <average[6]>.\n",
      "1494514872 [140508647126784] INFO test/nodb/average Received a valid event from sys/tg_test/1/ulong_scalar for node <average[7]>.\n",
      "1494514873 [140508647126784] INFO test/nodb/average Received a valid event from sys/tg_test/1/ushort_scalar for node <average[8]>.\n",
      "1494514873 [140508647126784] INFO test/nodb/average Received a valid event from sys/tg_test/1/double_scalar for node <average[1]>.\n",
      "1494514873 [140508647126784] INFO test/nodb/average Received a valid event from sys/tg_test/1/float_scalar for node <average[2]>.\n",
      "1494514873 [140508647126784] INFO test/nodb/average Received a valid event from sys/tg_test/1/long64_scalar for node <average[3]>.\n",
      "1494514873 [140508647126784] INFO test/nodb/average Received a valid event from sys/tg_test/1/long_scalar for node <average[4]>.\n",
      "1494514873 [140508647126784] INFO test/nodb/average Received a valid event from sys/tg_test/1/uchar_scalar for node <average[5]>.\n",
      "1494514873 [140508647126784] INFO test/nodb/average Received a valid event from sys/tg_test/1/ulong64_scalar for node <average[6]>.\n",
      "1494514873 [140508647126784] INFO test/nodb/average Received a valid event from sys/tg_test/1/ulong_scalar for node <average[7]>.\n",
      "1494514874 [140508647126784] INFO test/nodb/average Received a valid event from sys/tg_test/1/ushort_scalar for node <average[8]>.\n",
      "1494514874 [140508647126784] INFO test/nodb/average Received a valid event from sys/tg_test/1/double_scalar for node <average[1]>.\n",
      "1494514874 [140508647126784] INFO test/nodb/average Received a valid event from sys/tg_test/1/float_scalar for node <average[2]>.\n",
      "1494514874 [140508647126784] INFO test/nodb/average Received a valid event from sys/tg_test/1/long64_scalar for node <average[3]>.\n",
      "1494514874 [140508647126784] INFO test/nodb/average Received a valid event from sys/tg_test/1/long_scalar for node <average[4]>.\n",
      "1494514874 [140508647126784] INFO test/nodb/average Received a valid event from sys/tg_test/1/uchar_scalar for node <average[5]>.\n",
      "1494514874 [140508647126784] INFO test/nodb/average Received a valid event from sys/tg_test/1/ulong64_scalar for node <average[6]>.\n",
      "1494514874 [140508647126784] INFO test/nodb/average Received a valid event from sys/tg_test/1/ulong_scalar for node <average[7]>.\n",
      "1494514875 [140508647126784] INFO test/nodb/average Received a valid event from sys/tg_test/1/ushort_scalar for node <average[8]>.\n",
      "1494514875 [140508647126784] INFO test/nodb/average Received a valid event from sys/tg_test/1/double_scalar for node <average[1]>.\n",
      "1494514875 [140508647126784] INFO test/nodb/average Received a valid event from sys/tg_test/1/float_scalar for node <average[2]>.\n",
      "1494514875 [140508647126784] INFO test/nodb/average Received a valid event from sys/tg_test/1/long64_scalar for node <average[3]>.\n",
      "1494514875 [140508647126784] INFO test/nodb/average Received a valid event from sys/tg_test/1/long_scalar for node <average[4]>.\n",
      "1494514875 [140508647126784] INFO test/nodb/average Received a valid event from sys/tg_test/1/uchar_scalar for node <average[5]>.\n",
      "1494514875 [140508647126784] INFO test/nodb/average Received a valid event from sys/tg_test/1/ulong64_scalar for node <average[6]>.\n",
      "1494514875 [140508647126784] INFO test/nodb/average Received a valid event from sys/tg_test/1/ulong_scalar for node <average[7]>.\n",
      "1494514876 [140508647126784] INFO test/nodb/average Received a valid event from sys/tg_test/1/ushort_scalar for node <average[8]>.\n",
      "1494514876 [140508647126784] INFO test/nodb/average Received a valid event from sys/tg_test/1/double_scalar for node <average[1]>.\n",
      "1494514876 [140508647126784] INFO test/nodb/average Received a valid event from sys/tg_test/1/float_scalar for node <average[2]>.\n",
      "1494514876 [140508647126784] INFO test/nodb/average Received a valid event from sys/tg_test/1/long64_scalar for node <average[3]>.\n",
      "1494514876 [140508647126784] INFO test/nodb/average Received a valid event from sys/tg_test/1/long_scalar for node <average[4]>.\n",
      "1494514876 [140508647126784] INFO test/nodb/average Received a valid event from sys/tg_test/1/uchar_scalar for node <average[5]>.\n",
      "1494514876 [140508647126784] INFO test/nodb/average Received a valid event from sys/tg_test/1/ulong64_scalar for node <average[6]>.\n",
      "1494514876 [140508647126784] INFO test/nodb/average Received a valid event from sys/tg_test/1/ulong_scalar for node <average[7]>.\n",
      "^C\n"
     ]
    }
   ],
   "source": [
    "!python -m tango.test_context facade_combined_attribute.Average --host=localhost --prop=\"{'AttributesToAverage': 'sys/tg_test/1/[!string]*scalar'}\" --port=3457 "
   ]
  },
  {
   "cell_type": "code",
   "execution_count": 9,
   "metadata": {},
   "outputs": [
    {
     "name": "stdout",
     "output_type": "stream",
     "text": [
      "API_CantConnectToDevice: Failed to connect to device test/nodb/average\n",
      "The connection request was delayed.\n",
      "The last connection request was done less than 1000 ms ago\n",
      "(For more detailed information type: tango_error)\n"
     ]
    }
   ],
   "source": [
    "dev = Device(\"tango://localhost:3457/test/nodb/average#dbase=no\")\n",
    "print(\"\\n\", dev.status())\n",
    "print(\"\\n\", dev.average)"
   ]
  },
  {
   "cell_type": "code",
   "execution_count": null,
   "metadata": {
    "collapsed": true
   },
   "outputs": [],
   "source": []
  }
 ],
 "metadata": {
  "kernelspec": {
   "display_name": "ITango",
   "language": "python",
   "name": "tango"
  },
  "language_info": {
   "codemirror_mode": {
    "name": "ipython",
    "version": 3
   },
   "file_extension": ".py",
   "mimetype": "text/x-python",
   "name": "python",
   "nbconvert_exporter": "python",
   "pygments_lexer": "ipython3",
   "version": "3.5.3"
  }
 },
 "nbformat": 4,
 "nbformat_minor": 2
}
